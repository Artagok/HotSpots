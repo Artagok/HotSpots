{
 "cells": [
  {
   "cell_type": "markdown",
   "metadata": {
    "jupyter": {
     "source_hidden": true
    }
   },
   "source": [
    "def read(path):\n",
    "    df = (\n",
    "        pd.read_csv(path)\n",
    "        # .dropna(how=\"all\", axis=0)\n",
    "        .rename(str.lower, axis=\"columns\")\n",
    "        .rename(lambda x: x.replace(\" \", \"_\"), axis=\"columns\")\n",
    "        .pipe(\n",
    "            fix_longlat,\n",
    "            # columns with -1 as a NaN\n",
    "            cols=[\n",
    "                \"junction_detail\",\n",
    "                \"junction_control\",\n",
    "                \"2nd_road_class\",\n",
    "                \"pedestrian_crossing-human_control\",\n",
    "                \"pedestrian_crossing-physical_facilities\",\n",
    "                \"light_conditions\",\n",
    "                \"road_surface_conditions\",\n",
    "                \"special_conditions_at_site\",\n",
    "                \"carriageway_hazards\",\n",
    "                \"lsoa_of_accident_location\",\n",
    "            ],\n",
    "        )\n",
    "        .assign(\n",
    "            month=lambda x: x[\"date\"]\n",
    "            .apply(pd.to_datetime, format=\"%Y-%m-%d\")\n",
    "            .apply(lambda x: x.month),\n",
    "            day=lambda x: x[\"date\"]\n",
    "            .apply(pd.to_datetime, format=\"%Y-%m-%d\")\n",
    "            .apply(lambda x: x.day),\n",
    "            hour=lambda x: x[\"time\"]\n",
    "            .apply(pd.to_datetime, format=\"%H:%M\")\n",
    "            .apply(lambda x: x.hour),\n",
    "            minute=lambda x: x[\"time\"]\n",
    "            .apply(pd.to_datetime, format=\"%H:%M\")\n",
    "            .apply(lambda x: x.minute),\n",
    "            latlong=lambda x: x[[\"latitude\", \"longitude\"]].apply(tuple, axis=1),\n",
    "        )\n",
    "        .reset_index(drop=True)\n",
    "    )\n",
    "\n",
    "    return df\n",
    "\n",
    "\n",
    "def fix_longlat(df, cols):\n",
    "    df = df.copy()\n",
    "    for col in cols:\n",
    "        df[col] = df[col].replace({\"-1\": np.nan})\n",
    "\n",
    "    return df"
   ]
  },
  {
   "cell_type": "code",
   "execution_count": 1,
   "metadata": {},
   "outputs": [],
   "source": [
    "import pandas as pd\n",
    "import numpy as np\n",
    "\n",
    "from scipy.spatial.distance import cdist"
   ]
  },
  {
   "cell_type": "code",
   "execution_count": 2,
   "metadata": {},
   "outputs": [],
   "source": [
    "def read(path, na=np.nan):\n",
    "    df = (\n",
    "        pd.read_csv(path, na_values=na)\n",
    "        .dropna(how=\"all\", axis=0)\n",
    "        .rename(str.lower, axis=\"columns\")\n",
    "        .rename(lambda x: x.replace(\" \", \"_\"), axis=\"columns\")\n",
    "    )\n",
    "\n",
    "    return df"
   ]
  },
  {
   "cell_type": "code",
   "execution_count": 5,
   "metadata": {},
   "outputs": [
    {
     "name": "stderr",
     "output_type": "stream",
     "text": [
      "/Users/r/miniconda3/envs/hack2/lib/python3.7/site-packages/IPython/core/interactiveshell.py:3249: DtypeWarning: Columns (17) have mixed types. Specify dtype option on import or set low_memory=False.\n",
      "  if (await self.run_code(code, result,  async_=asy)):\n"
     ]
    }
   ],
   "source": [
    "locales = read(\"data/2016_cens_locals_plantabaixa.csv\")"
   ]
  },
  {
   "cell_type": "code",
   "execution_count": 6,
   "metadata": {},
   "outputs": [],
   "source": [
    "def fetch_locales(lat: float, lon: float, ndigits: int = 3):\n",
    "    \"\"\"Inventario de locales de la ciudad de Barcelona con el objectivo de identificar\n",
    "        todos los locales en planta baja con actividad económica o sin actividad.\"\"\"\n",
    "\n",
    "    # create bounding box for coordinates\n",
    "    # add 0.001\n",
    "    add = round(1 * 10 ** -(ndigits), ndigits=ndigits + 1)\n",
    "    lat = round(lat, ndigits=ndigits)\n",
    "    lon = round(lon, ndigits=ndigits)\n",
    "\n",
    "    lat_min = round(lat - add, ndigits=ndigits)\n",
    "    lon_min = round(lon - add, ndigits=ndigits)\n",
    "\n",
    "    lat_max = round(lat + add, ndigits=ndigits)\n",
    "    lon_max = round(lon + add, ndigits=ndigits)\n",
    "\n",
    "    # print(lat, lon, lat_min, lon_min, lat_max, lon_max)\n",
    "\n",
    "    df = read(\"data/2016_cens_locals_plantabaixa.csv\")\n",
    "    df = df[[\"latitud\", \"longitud\", \"id_princip\"]]\n",
    "\n",
    "    df = df.loc[\n",
    "        df[\"longitud\"].between(lon_min, lon_max, inclusive=True)\n",
    "        & df[\"latitud\"].between(lat_min, lat_max, inclusive=True)\n",
    "    ]\n",
    "\n",
    "    try:\n",
    "        active = df[\"id_princip\"].value_counts()[1]\n",
    "    except:\n",
    "        active = 0\n",
    "        \n",
    "        \n",
    "    # es mejor práctica capturar todos los posibles errores (abajo) pero asi es 100% seguro que tira\n",
    "    #except KeyError:\n",
    "    #    active = 0\n",
    "    #except IndexError:\n",
    "    #    active = 0\n",
    "\n",
    "    try:\n",
    "        inactive = df[\"id_princip\"].value_counts()[0]\n",
    "    except:\n",
    "        inactive = 0\n",
    "        \n",
    "    # es mejor práctica capturar todos los posibles errores (abajo) pero asi es 100% seguro que tira\n",
    "\n",
    "    #except KeyError:\n",
    "    #    inactive = 0\n",
    "    #except IndexError:\n",
    "    #    inactive = 0\n",
    "\n",
    "    return {\n",
    "        \"active\": active,\n",
    "        \"inactive\": inactive,\n",
    "    }"
   ]
  },
  {
   "cell_type": "code",
   "execution_count": 7,
   "metadata": {},
   "outputs": [
    {
     "name": "stderr",
     "output_type": "stream",
     "text": [
      "/Users/r/miniconda3/envs/hack2/lib/python3.7/site-packages/IPython/core/interactiveshell.py:3326: DtypeWarning: Columns (17) have mixed types. Specify dtype option on import or set low_memory=False.\n",
      "  exec(code_obj, self.user_global_ns, self.user_ns)\n"
     ]
    },
    {
     "name": "stdout",
     "output_type": "stream",
     "text": [
      "{'active': 0, 'inactive': 0}\n",
      "{'active': 0, 'inactive': 0}\n",
      "{'active': 58, 'inactive': 1}\n",
      "{'active': 13, 'inactive': 1}\n",
      "{'active': 0, 'inactive': 0}\n"
     ]
    }
   ],
   "source": [
    "for _ in range(5):\n",
    "    lat = np.random.uniform(locales.latitud.min(), locales.latitud.max())\n",
    "    lon = np.random.uniform(locales.longitud.min(), locales.longitud.max())\n",
    "    \n",
    "    a = fetch_locales(lat, lon)\n",
    "    print(dict(a))"
   ]
  },
  {
   "cell_type": "code",
   "execution_count": 8,
   "metadata": {},
   "outputs": [],
   "source": [
    "def closest_point(point, points):\n",
    "    \"\"\" Find closest point from a list of points. \"\"\"\n",
    "    return points[cdist([point], points).argmin()]"
   ]
  },
  {
   "cell_type": "code",
   "execution_count": 13,
   "metadata": {},
   "outputs": [],
   "source": [
    "def fetch_qualitat(lat: float, lon: float, ndigits: int = 3):\n",
    "    \"\"\"Find closer station and fetch data.\n",
    "    \n",
    "        El valor que devuelve son el número de intervalos de 1h en los que\n",
    "        la calidad del aire era X, por ej. 'qa_high': 450 significa que en ese\n",
    "        mes han habido 450 intervalos de 1h en los que la calidad era alta.\"\"\"\n",
    "\n",
    "    # create bounding box for coordinates\n",
    "\n",
    "    lat = round(lat, ndigits=ndigits)\n",
    "    lon = round(lon, ndigits=ndigits)\n",
    "\n",
    "    # print(closest)\n",
    "\n",
    "    df = read(\"data/2019_01_Gener_qualitat_aire_BCN.csv\", na=\"--\")\n",
    "    df = df[[\"latitud\", \"longitud\", \"qualitat_aire\"]]\n",
    "\n",
    "    point = (lat, lon)\n",
    "    points = list(zip(df[\"latitud\"], df[\"longitud\"]))\n",
    "    closest = closest_point(point, points)\n",
    "\n",
    "    df = df.loc[(df[\"longitud\"] == closest[1]) & (df[\"latitud\"] == closest[0])]\n",
    "\n",
    "    assert df.shape != (0, 0)\n",
    "\n",
    "    try:\n",
    "        qa_bona = df[\"qualitat_aire\"].value_counts()[\"Bona\"]\n",
    "    except:\n",
    "        qa_bona = 0\n",
    "\n",
    "    try:\n",
    "        qa_regular = df[\"qualitat_aire\"].value_counts()[\"Regular\"]\n",
    "    except:\n",
    "        qa_regular = 0\n",
    "\n",
    "    try:\n",
    "        qa_pobre = df[\"qualitat_aire\"].value_counts()[\"Pobra\"]\n",
    "    except:\n",
    "        qa_pobre = 0\n",
    "\n",
    "    return {\"qa_high\": qa_bona, \"qa_medium\": qa_regular, \"qa_low\": qa_pobre}"
   ]
  },
  {
   "cell_type": "code",
   "execution_count": 15,
   "metadata": {},
   "outputs": [
    {
     "name": "stdout",
     "output_type": "stream",
     "text": [
      "{'qa_high': 735, 'qa_medium': 1, 'qa_low': 0}\n",
      "{'qa_high': 735, 'qa_medium': 1, 'qa_low': 0}\n",
      "{'qa_high': 735, 'qa_medium': 1, 'qa_low': 0}\n",
      "{'qa_high': 676, 'qa_medium': 15, 'qa_low': 0}\n",
      "{'qa_high': 688, 'qa_medium': 42, 'qa_low': 5}\n"
     ]
    }
   ],
   "source": [
    "for _ in range(5):\n",
    "    lat = np.random.uniform(locales.latitud.min(), locales.latitud.max())\n",
    "    lon = np.random.uniform(locales.longitud.min(), locales.longitud.max())\n",
    "    \n",
    "    a = fetch_qualitat(lat, lon)\n",
    "    print(dict(a))"
   ]
  },
  {
   "cell_type": "code",
   "execution_count": 52,
   "metadata": {},
   "outputs": [],
   "source": [
    "def fetch_ensenyament(lat: float, lon: float, ndigits: int = 3):\n",
    "    \"\"\"Inventario de locales de la ciudad de Barcelona con el objectivo de identificar\n",
    "        todos los locales en planta baja con actividad económica o sin actividad.\"\"\"\n",
    "\n",
    "    # create bounding box for coordinates\n",
    "    # add 0.002\n",
    "    add = round(2 * 10 ** -(ndigits), ndigits=ndigits + 1)\n",
    "    lat = round(lat, ndigits=ndigits)\n",
    "    lon = round(lon, ndigits=ndigits)\n",
    "\n",
    "    lat_min = round(lat - add, ndigits=ndigits)\n",
    "    lon_min = round(lon - add, ndigits=ndigits)\n",
    "\n",
    "    lat_max = round(lat + add, ndigits=ndigits)\n",
    "    lon_max = round(lon + add, ndigits=ndigits)\n",
    "\n",
    "    # print(lat, lon, lat_min, lon_min, lat_max, lon_max)\n",
    "\n",
    "    df = read(\"data/E0001_Ensenyament_Infantil.csv\").drop_duplicates(\n",
    "        subset=[\"codi_equipament\"]\n",
    "    )\n",
    "\n",
    "    # df = df[[\"latitud\", \"longitud\", \"id_princip\"]]\n",
    "\n",
    "    df = df.loc[\n",
    "        df[\"longitud\"].between(lon_min, lon_max, inclusive=True)\n",
    "        & df[\"latitud\"].between(lat_min, lat_max, inclusive=True)\n",
    "    ]\n",
    "    \n",
    "    return {\"equip_infantil\": df.shape[0]}\n",
    "\n",
    "    "
   ]
  },
  {
   "cell_type": "markdown",
   "metadata": {},
   "source": [
    "try:\n",
    "        active = df[\"id_princip\"].value_counts()[1]\n",
    "    except:\n",
    "        active = 0\n",
    "\n",
    "    try:\n",
    "        inactive = df[\"id_princip\"].value_counts()[0]\n",
    "    except:\n",
    "        inactive = 0\n",
    "\n",
    "    return {\"active\": active, \"inactive\": inactive}"
   ]
  },
  {
   "cell_type": "code",
   "execution_count": 54,
   "metadata": {},
   "outputs": [
    {
     "name": "stdout",
     "output_type": "stream",
     "text": [
      "{'equip_infantil': 1}\n",
      "{'equip_infantil': 0}\n",
      "{'equip_infantil': 0}\n",
      "{'equip_infantil': 0}\n",
      "{'equip_infantil': 4}\n"
     ]
    }
   ],
   "source": [
    "for _ in range(5):\n",
    "    lat = np.random.uniform(locales.latitud.min(), locales.latitud.max())\n",
    "    lon = np.random.uniform(locales.longitud.min(), locales.longitud.max())\n",
    "    \n",
    "    a = fetch_ensenyament(lat, lon)\n",
    "    print(dict(a))"
   ]
  },
  {
   "cell_type": "code",
   "execution_count": null,
   "metadata": {},
   "outputs": [],
   "source": []
  }
 ],
 "metadata": {
  "kernelspec": {
   "display_name": "Python 3",
   "language": "python",
   "name": "python3"
  },
  "language_info": {
   "codemirror_mode": {
    "name": "ipython",
    "version": 3
   },
   "file_extension": ".py",
   "mimetype": "text/x-python",
   "name": "python",
   "nbconvert_exporter": "python",
   "pygments_lexer": "ipython3",
   "version": "3.7.3"
  }
 },
 "nbformat": 4,
 "nbformat_minor": 4
}
